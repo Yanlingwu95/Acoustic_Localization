{
  "nbformat": 4,
  "nbformat_minor": 0,
  "metadata": {
    "colab": {
      "name": "19-Extraction-feature.ipynb",
      "version": "0.3.2",
      "provenance": [],
      "collapsed_sections": [],
      "include_colab_link": true
    },
    "kernelspec": {
      "display_name": "tensorflow",
      "language": "python",
      "name": "tensorflow"
    }
  },
  "cells": [
    {
      "cell_type": "markdown",
      "metadata": {
        "id": "view-in-github",
        "colab_type": "text"
      },
      "source": [
        "<a href=\"https://colab.research.google.com/github/Yanlingwu95/Acoustic_Localization/blob/master/19_Extraction_feature.ipynb\" target=\"_parent\"><img src=\"https://colab.research.google.com/assets/colab-badge.svg\" alt=\"Open In Colab\"/></a>"
      ]
    },
    {
      "metadata": {
        "colab_type": "code",
        "id": "2oUQ2TpUvvxg",
        "outputId": "bff10776-dfa2-4afa-b5ac-84eac4bfc85e",
        "colab": {
          "base_uri": "https://localhost:8080/",
          "height": 224
        }
      },
      "cell_type": "code",
      "source": [
        "# 授权绑定Google Drive \n",
        "!apt-get install -y -qq software-properties-common python-software-properties module-init-tools \n",
        "!add-apt-repository -y ppa:alessandro-strada/ppa 2>&1 > /dev/null \n",
        "!apt-get update -qq 2>&1 > /dev/null \n",
        "!apt-get -y install -qq google-drive-ocamlfuse fuse \n",
        "from google.colab import auth \n",
        "auth.authenticate_user() \n",
        "from oauth2client.client import GoogleCredentials \n",
        "creds = GoogleCredentials.get_application_default() \n",
        "import getpass \n",
        "!google-drive-ocamlfuse -headless -id={creds.client_id} -secret={creds.client_secret} < /dev/null 2>&1 | grep URL \n",
        "vcode = getpass.getpass()\n",
        "!echo {vcode} | google-drive-ocamlfuse -headless -id={creds.client_id} -secret={creds.client_secret}\n"
      ],
      "execution_count": 1,
      "outputs": [
        {
          "output_type": "stream",
          "text": [
            "E: Package 'python-software-properties' has no installation candidate\n",
            "Selecting previously unselected package google-drive-ocamlfuse.\n",
            "(Reading database ... 113597 files and directories currently installed.)\n",
            "Preparing to unpack .../google-drive-ocamlfuse_0.7.1-0ubuntu3~ubuntu18.04.1_amd64.deb ...\n",
            "Unpacking google-drive-ocamlfuse (0.7.1-0ubuntu3~ubuntu18.04.1) ...\n",
            "Setting up google-drive-ocamlfuse (0.7.1-0ubuntu3~ubuntu18.04.1) ...\n",
            "Processing triggers for man-db (2.8.3-2ubuntu0.1) ...\n",
            "Please, open the following URL in a web browser: https://accounts.google.com/o/oauth2/auth?client_id=32555940559.apps.googleusercontent.com&redirect_uri=urn%3Aietf%3Awg%3Aoauth%3A2.0%3Aoob&scope=https%3A%2F%2Fwww.googleapis.com%2Fauth%2Fdrive&response_type=code&access_type=offline&approval_prompt=force\n",
            "··········\n",
            "Please, open the following URL in a web browser: https://accounts.google.com/o/oauth2/auth?client_id=32555940559.apps.googleusercontent.com&redirect_uri=urn%3Aietf%3Awg%3Aoauth%3A2.0%3Aoob&scope=https%3A%2F%2Fwww.googleapis.com%2Fauth%2Fdrive&response_type=code&access_type=offline&approval_prompt=force\n",
            "Please enter the verification code: Access token retrieved correctly.\n"
          ],
          "name": "stdout"
        }
      ]
    },
    {
      "metadata": {
        "colab_type": "code",
        "id": "7H09mQ2zvy1I",
        "outputId": "4734cbac-ba9a-4945-a08b-b270d0a263d5",
        "colab": {
          "base_uri": "https://localhost:8080/",
          "height": 34
        }
      },
      "cell_type": "code",
      "source": [
        "# 指定Google Drive云端硬盘的根目录，名为drive\n",
        "!mkdir -p drive\n",
        "!google-drive-ocamlfuse drive\n",
        "\n",
        "# 指定当前的工作目录\n",
        "import os\n",
        "\n",
        "# 此处为google drive中的文件路径,drive为之前指定的工作根目录，要加上\n",
        "os.chdir(\"drive/Acoustic_Localization/keras/data/data_19_1\") \n",
        "\n",
        "\n",
        "# 查看文件目录，是否包含所需的文件\n",
        "!ls"
      ],
      "execution_count": 2,
      "outputs": [
        {
          "output_type": "stream",
          "text": [
            "qd_LOS_32_berlin_20k.mat  qd_NLOS_32_berlin_20k.mat  v_LOS_32_20k.mat\n"
          ],
          "name": "stdout"
        }
      ]
    },
    {
      "metadata": {
        "colab_type": "code",
        "id": "IeEvKC_pv8yd",
        "outputId": "684e02d1-c4d6-42b4-d4af-8f6a744dbc07",
        "colab": {
          "base_uri": "https://localhost:8080/",
          "height": 34
        }
      },
      "cell_type": "code",
      "source": [
        "import scipy.io as sio\n",
        "import numpy as np\n",
        "import tensorflow as tf\n",
        "import keras\n",
        "from keras import backend as K\n",
        "from keras.models import Sequential\n",
        "from keras.layers import Dense, Dropout, Conv2D, Flatten\n",
        "from keras.optimizers import RMSprop\n",
        "import matplotlib.pyplot as plt\n",
        "#import seaborn as sns; sns.set()\n",
        "from mpl_toolkits.mplot3d import Axes3D\n",
        "import pandas as pd\n",
        "from keras import regularizers"
      ],
      "execution_count": 0,
      "outputs": [
        {
          "output_type": "stream",
          "text": [
            "Using TensorFlow backend.\n"
          ],
          "name": "stderr"
        }
      ]
    },
    {
      "metadata": {
        "colab_type": "code",
        "id": "zcTXAbkmv9FK",
        "outputId": "5e17a2cb-61f0-4d81-ee06-cf325618a915",
        "colab": {
          "base_uri": "https://localhost:8080/",
          "height": 52
        }
      },
      "cell_type": "code",
      "source": [
        "#loading data\n",
        "DDataFile = './data/data_Emre/v_LOS_32_20k.mat'\n",
        "DData = sio.loadmat(DDataFile)\n",
        "#get the coeff data\n",
        "D_data = DData['h_coeff']\n",
        "location_data = DData['positions']\n",
        "#split the D_data and location_data and only need the first 2k\n",
        "N = 2000\n",
        "M = 32\n",
        "d_data = D_data[:,:N]\n",
        "loc_data = location_data[:,:N]\n",
        "print(\"d_data shape\", d_data.shape)\n",
        "print(\"loc shape\", loc_data.shape)\n"
      ],
      "execution_count": 0,
      "outputs": [
        {
          "output_type": "stream",
          "text": [
            "d_data shape (32, 2000)\n",
            "loc shape (2, 2000)\n"
          ],
          "name": "stdout"
        }
      ]
    },
    {
      "metadata": {
        "colab_type": "code",
        "id": "W2cGEuunv9NV",
        "colab": {},
        "outputId": "b4bf04b3-5424-4eb6-ea3c-e3703d242709"
      },
      "cell_type": "code",
      "source": [
        "I = np.eye(N)\n",
        "D = np.fft.fft(I)\n",
        "DH = np.conjugate(D)\n",
        "print(\"I\\n\", I, I.shape)\n",
        "print(\"D\\n\", D, D.shape)\n",
        "print(D[3][2],D[2][3], D.shape)\n",
        "print(DH[3][2],DH[2][3], DH.shape)"
      ],
      "execution_count": 0,
      "outputs": [
        {
          "output_type": "stream",
          "text": [
            "I\n",
            " [[1. 0. 0. ... 0. 0. 0.]\n",
            " [0. 1. 0. ... 0. 0. 0.]\n",
            " [0. 0. 1. ... 0. 0. 0.]\n",
            " ...\n",
            " [0. 0. 0. ... 1. 0. 0.]\n",
            " [0. 0. 0. ... 0. 1. 0.]\n",
            " [0. 0. 0. ... 0. 0. 1.]] (2000, 2000)\n",
            "D\n",
            " [[1.        +0.j         1.        +0.j         1.        +0.j\n",
            "  ... 1.        -0.j         1.        -0.j\n",
            "  1.        -0.j        ]\n",
            " [1.        +0.j         0.99999507-0.00314159j 0.99998026-0.00628314j\n",
            "  ... 0.99995559+0.00942464j 0.99998026+0.00628314j\n",
            "  0.99999507+0.00314159j]\n",
            " [1.        +0.j         0.99998026-0.00628314j 0.99992104-0.01256604j\n",
            "  ... 0.99982235+0.01884844j 0.99992104+0.01256604j\n",
            "  0.99998026+0.00628314j]\n",
            " ...\n",
            " [1.        +0.j         0.99995559+0.00942464j 0.99982235+0.01884844j\n",
            "  ... 0.99960031-0.02827057j 0.99982235-0.01884844j\n",
            "  0.99995559-0.00942464j]\n",
            " [1.        +0.j         0.99998026+0.00628314j 0.99992104+0.01256604j\n",
            "  ... 0.99982235-0.01884844j 0.99992104-0.01256604j\n",
            "  0.99998026-0.00628314j]\n",
            " [1.        +0.j         0.99999507+0.00314159j 0.99998026+0.00628314j\n",
            "  ... 0.99995559-0.00942464j 0.99998026-0.00628314j\n",
            "  0.99999507-0.00314159j]] (2000, 2000)\n",
            "(0.9998223523808092-0.018848439715408172j) (0.999822352380809-0.018848439715408144j) (2000, 2000)\n",
            "(0.9998223523808092+0.018848439715408172j) (0.999822352380809+0.018848439715408144j) (2000, 2000)\n"
          ],
          "name": "stdout"
        }
      ]
    },
    {
      "metadata": {
        "id": "Y1pmarl7K33F",
        "colab_type": "code",
        "colab": {},
        "outputId": "81b5b566-6a6d-4f46-aa20-25d93c3c8d07"
      },
      "cell_type": "code",
      "source": [
        "DH = np.conjugate(D)\n",
        "DH = np.transpose(DH)\n",
        "# D = np.matrix(D) \n",
        "# DH = D.getH()\n",
        "R = np.dot(DH, D)\n",
        "R"
      ],
      "execution_count": 0,
      "outputs": [
        {
          "output_type": "execute_result",
          "data": {
            "text/plain": [
              "array([[ 2.00000000e+03+0.00000000e+00j, -7.10542736e-14+7.10542736e-15j,\n",
              "        -8.52651283e-14+1.06581410e-13j, ...,\n",
              "        -1.13686838e-13-6.39488462e-14j, -1.42108547e-14-4.26325641e-14j,\n",
              "        -7.10542736e-14+1.24344979e-14j],\n",
              "       [-7.10542736e-14-7.10542736e-15j,  2.00000000e+03+0.00000000e+00j,\n",
              "         2.70006240e-13+2.20268248e-13j, ...,\n",
              "        -1.27897692e-13+8.52651283e-14j, -7.10542736e-14+1.56319402e-13j,\n",
              "        -7.10542736e-14-1.77635684e-14j],\n",
              "       [-8.52651283e-14-1.06581410e-13j,  2.70006240e-13-2.20268248e-13j,\n",
              "         2.00000000e+03+0.00000000e+00j, ...,\n",
              "        -2.84217094e-14+9.23705556e-14j,  0.00000000e+00+5.68434189e-14j,\n",
              "        -7.10542736e-14+1.56319402e-13j],\n",
              "       ...,\n",
              "       [-1.13686838e-13+6.39488462e-14j, -1.27897692e-13-8.52651283e-14j,\n",
              "        -2.84217094e-14-9.23705556e-14j, ...,\n",
              "         2.00000000e+03+0.00000000e+00j,  2.84217094e-14-1.06581410e-14j,\n",
              "         1.42108547e-13+8.52651283e-14j],\n",
              "       [-8.52651283e-14+1.06581410e-13j, -9.94759830e-14-9.94759830e-14j,\n",
              "         2.84217094e-14-4.97379915e-14j, ...,\n",
              "        -2.84217094e-14+8.52651283e-14j,  2.00000000e+03+0.00000000e+00j,\n",
              "        -1.27897692e-13-3.01980663e-14j],\n",
              "       [-7.10542736e-14+7.10542736e-15j, -1.56319402e-13+3.09086090e-13j,\n",
              "        -9.94759830e-14-9.94759830e-14j, ...,\n",
              "        -2.98427949e-13+1.63424829e-13j, -1.27897692e-13+3.01980663e-14j,\n",
              "         2.00000000e+03+0.00000000e+00j]])"
            ]
          },
          "metadata": {
            "tags": []
          },
          "execution_count": 7
        }
      ]
    },
    {
      "metadata": {
        "id": "_4rE2-OwK33J",
        "colab_type": "code",
        "colab": {}
      },
      "cell_type": "code",
      "source": [
        ""
      ],
      "execution_count": 0,
      "outputs": []
    }
  ]
}
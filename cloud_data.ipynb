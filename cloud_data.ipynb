{
  "nbformat": 4,
  "nbformat_minor": 0,
  "metadata": {
    "colab": {
      "name": "cloud_data.ipynb",
      "version": "0.3.2",
      "provenance": [],
      "collapsed_sections": [],
      "include_colab_link": true
    },
    "kernelspec": {
      "name": "python3",
      "display_name": "Python 3"
    },
    "accelerator": "GPU"
  },
  "cells": [
    {
      "cell_type": "markdown",
      "metadata": {
        "id": "view-in-github",
        "colab_type": "text"
      },
      "source": [
        "<a href=\"https://colab.research.google.com/github/Yanlingwu95/Acoustic_Localization/blob/master/cloud_data.ipynb\" target=\"_parent\"><img src=\"https://colab.research.google.com/assets/colab-badge.svg\" alt=\"Open In Colab\"/></a>"
      ]
    },
    {
      "metadata": {
        "id": "tB5KH4X33au_",
        "colab_type": "code",
        "outputId": "59e3be3a-2915-493c-ff75-aa898e6202e5",
        "colab": {
          "base_uri": "https://localhost:8080/",
          "height": 243
        }
      },
      "cell_type": "code",
      "source": [
        "# 授权绑定Google Drive \n",
        "!apt-get install -y -qq software-properties-common python-software-properties module-init-tools \n",
        "!add-apt-repository -y ppa:alessandro-strada/ppa 2>&1 > /dev/null \n",
        "!apt-get update -qq 2>&1 > /dev/null \n",
        "!apt-get -y install -qq google-drive-ocamlfuse fuse \n",
        "from google.colab import auth \n",
        "auth.authenticate_user() \n",
        "from oauth2client.client import GoogleCredentials \n",
        "creds = GoogleCredentials.get_application_default() \n",
        "import getpass \n",
        "!google-drive-ocamlfuse -headless -id={creds.client_id} -secret={creds.client_secret} < /dev/null 2>&1 | grep URL \n",
        "vcode = getpass.getpass()\n",
        "!echo {vcode} | google-drive-ocamlfuse -headless -id={creds.client_id} -secret={creds.client_secret}\n"
      ],
      "execution_count": 0,
      "outputs": [
        {
          "output_type": "stream",
          "text": [
            "E: Package 'python-software-properties' has no installation candidate\n",
            "Selecting previously unselected package google-drive-ocamlfuse.\n",
            "(Reading database ... 131304 files and directories currently installed.)\n",
            "Preparing to unpack .../google-drive-ocamlfuse_0.7.3-0ubuntu3~ubuntu18.04.1_amd64.deb ...\n",
            "Unpacking google-drive-ocamlfuse (0.7.3-0ubuntu3~ubuntu18.04.1) ...\n",
            "Setting up google-drive-ocamlfuse (0.7.3-0ubuntu3~ubuntu18.04.1) ...\n",
            "Processing triggers for man-db (2.8.3-2ubuntu0.1) ...\n",
            "Please, open the following URL in a web browser: https://accounts.google.com/o/oauth2/auth?client_id=32555940559.apps.googleusercontent.com&redirect_uri=urn%3Aietf%3Awg%3Aoauth%3A2.0%3Aoob&scope=https%3A%2F%2Fwww.googleapis.com%2Fauth%2Fdrive&response_type=code&access_type=offline&approval_prompt=force\n",
            "··········\n",
            "Please, open the following URL in a web browser: https://accounts.google.com/o/oauth2/auth?client_id=32555940559.apps.googleusercontent.com&redirect_uri=urn%3Aietf%3Awg%3Aoauth%3A2.0%3Aoob&scope=https%3A%2F%2Fwww.googleapis.com%2Fauth%2Fdrive&response_type=code&access_type=offline&approval_prompt=force\n",
            "Please enter the verification code: Access token retrieved correctly.\n"
          ],
          "name": "stdout"
        }
      ]
    },
    {
      "metadata": {
        "id": "rdBUa6RS3iO7",
        "colab_type": "code",
        "outputId": "5e785177-db62-4446-c8ee-1097e15c12da",
        "colab": {
          "base_uri": "https://localhost:8080/",
          "height": 148
        }
      },
      "cell_type": "code",
      "source": [
        "# 指定Google Drive云端硬盘的根目录，名为drive\n",
        "!mkdir -p drive\n",
        "!google-drive-ocamlfuse drive\n",
        "\n",
        "# 指定当前的工作目录\n",
        "import os\n",
        "\n",
        "# 此处为google drive中的文件路径,drive为之前指定的工作根目录，要加上\n",
        "os.chdir(\"drive/CS5412_Cloud_Computing/Digital Agriculture\") \n",
        "\n",
        "\n",
        "# 查看文件目录，是否包含所需的文件\n",
        "!ls"
      ],
      "execution_count": 13,
      "outputs": [
        {
          "output_type": "stream",
          "text": [
            "'AfiFarm_Daily data_Walnut Ridge_20180819 (April-Aug).xlsx'\n",
            "'AFI FARM wetransfer-b77a2a  (Aug-Dec).zip'\n",
            " cloud_data.ipynb\n",
            "'Copy of Repro all cows.XLS'\n",
            "'Data Explanation.pdf'\n",
            " drive\n",
            "'Environmental data.csv'\n"
          ],
          "name": "stdout"
        }
      ]
    },
    {
      "metadata": {
        "id": "2F1bgOPH3FKI",
        "colab_type": "code",
        "colab": {}
      },
      "cell_type": "code",
      "source": [
        "import pandas as pd\n",
        "import numpy as np\n",
        "import matplotlib.pyplot as plt\n",
        "%matplotlib inline\n",
        "from sklearn.utils import shuffle\n",
        "from sklearn.preprocessing import LabelEncoder\n",
        "from sklearn.model_selection import train_test_split\n"
      ],
      "execution_count": 0,
      "outputs": []
    },
    {
      "metadata": {
        "id": "lcTEhv7G7SM3",
        "colab_type": "text"
      },
      "cell_type": "markdown",
      "source": [
        ""
      ]
    },
    {
      "metadata": {
        "id": "5WPpT1Ed3FKS",
        "colab_type": "code",
        "colab": {}
      },
      "cell_type": "code",
      "source": [
        "data = pd.read_excel('./Copy of Repro all cows.XLS')\n",
        "data_afi = pd.read_excel('./AfiFarm_Daily data_Walnut Ridge_20180819 (April-Aug).xlsx')\n",
        "\n",
        "data.head(5)\n"
      ],
      "execution_count": 0,
      "outputs": []
    },
    {
      "metadata": {
        "id": "I23xRa_k3FKa",
        "colab_type": "code",
        "outputId": "7e8504e8-16e6-4d03-d022-5896f9f9061d",
        "colab": {
          "base_uri": "https://localhost:8080/",
          "height": 36
        }
      },
      "cell_type": "code",
      "source": [
        "ID = data[\"ID\"].unique()\n",
        "ID.shape\n",
        "data[\"First Breeding\"][0]"
      ],
      "execution_count": 19,
      "outputs": [
        {
          "output_type": "execute_result",
          "data": {
            "text/plain": [
              "'Thu'"
            ]
          },
          "metadata": {
            "tags": []
          },
          "execution_count": 19
        }
      ]
    },
    {
      "metadata": {
        "id": "YCxwVQ1-3FKj",
        "colab_type": "code",
        "outputId": "367f4567-7c23-4d06-d091-0756128b9e4b",
        "colab": {
          "base_uri": "https://localhost:8080/",
          "height": 36
        }
      },
      "cell_type": "code",
      "source": [
        "data_afi.head(5)\n",
        "id_afi = data_afi[\"Animal_ID\"].unique()\n",
        "id_afi.shape\n",
        "col = data.columns\n",
        "\n",
        "li = []\n",
        "for s in col:\n",
        "    li.append(data[s])\n",
        "len(li[0])\n",
        "\n",
        "data.iloc[0:3,:].shape\n",
        "# data_afi[\"Animal_ID\"]\n"
      ],
      "execution_count": 56,
      "outputs": [
        {
          "output_type": "execute_result",
          "data": {
            "text/plain": [
              "(3, 80)"
            ]
          },
          "metadata": {
            "tags": []
          },
          "execution_count": 56
        }
      ]
    },
    {
      "metadata": {
        "id": "pdP3vtab3FKp",
        "colab_type": "code",
        "colab": {}
      },
      "cell_type": "code",
      "source": [
        "data_dic = {}\n",
        "for i in range(ID.shape[0]): \n",
        "    data_dic[ID[i]] = [data.iloc[i,:]]\n",
        "\n",
        "# for i in range(data_afi[\"Animal_ID\"].shape[0]):\n",
        "#     if data_afi[\"Animal_ID\"][i] in ID:\n",
        "#         data_dic[data_afi[\"Animal_ID\"][i]].append(data_afi.iloc[i,:])"
      ],
      "execution_count": 0,
      "outputs": []
    },
    {
      "metadata": {
        "id": "H5dIcrgYC8TD",
        "colab_type": "code",
        "colab": {}
      },
      "cell_type": "code",
      "source": [
        "for i in range(data_afi[\"Animal_ID\"].shape[0]):\n",
        "    if data_afi[\"Animal_ID\"][i] in ID:\n",
        "        data_dic[data_afi[\"Animal_ID\"][i]].append(data_afi.iloc[i,:])"
      ],
      "execution_count": 0,
      "outputs": []
    },
    {
      "metadata": {
        "id": "ON90L1G3ELkm",
        "colab_type": "code",
        "colab": {
          "base_uri": "https://localhost:8080/",
          "height": 56
        },
        "outputId": "38684bbf-6a8b-4de2-b601-b431cb3f000b"
      },
      "cell_type": "code",
      "source": [
        "def findData(list1, dic, key):\n",
        "    ind = 8\n",
        "    listp = []\n",
        "    listo = []\n",
        "    while(ind < len(list1)):\n",
        "        if list1[ind] == 'P':\n",
        "            listp.append(list1[ind-4])\n",
        "            break\n",
        "        elif list1[ind] == 'O':\n",
        "            listo.append(list1[ind-4])\n",
        "            ind += 5\n",
        "        else:\n",
        "            break\n",
        "    dic[key] = [listp, listo]\n",
        "    \n",
        "time_dic = {}\n",
        "for key in data_dic:\n",
        "    findData(data_dic[key][0],time_dic,key)\n",
        "   \n",
        "\n",
        "print((time_dic[3]))\n",
        "\n",
        "\n",
        "        "
      ],
      "execution_count": 99,
      "outputs": [
        {
          "output_type": "stream",
          "text": [
            "[[datetime.datetime(2019, 2, 15, 0, 0)], [Timestamp('2018-11-22 00:00:00'), datetime.datetime(2018, 12, 17, 0, 0), datetime.datetime(2019, 1, 22, 0, 0)]]\n"
          ],
          "name": "stdout"
        }
      ]
    },
    {
      "metadata": {
        "id": "Z9747pomPxQn",
        "colab_type": "code",
        "colab": {
          "base_uri": "https://localhost:8080/",
          "height": 36
        },
        "outputId": "1aebc17e-7eb1-4989-dcba-92634c65fe12"
      },
      "cell_type": "code",
      "source": [
        ""
      ],
      "execution_count": 91,
      "outputs": [
        {
          "output_type": "stream",
          "text": [
            "1\n"
          ],
          "name": "stdout"
        }
      ]
    },
    {
      "metadata": {
        "id": "7mcONO6W3FKu",
        "colab_type": "code",
        "colab": {}
      },
      "cell_type": "code",
      "source": [
        "def dateabs(date1,date2):\n",
        "  d1 = date1.split(\"/\")\n",
        "  d2 = date2.split(\"/\")\n",
        "  if abs(int(d1[0]) - int(d2[0]))<=1 and int(d1[2]) == int(d2[2]):\n",
        "    return True\n",
        "  else:\n",
        "    return False"
      ],
      "execution_count": 0,
      "outputs": []
    },
    {
      "metadata": {
        "id": "HPWiQflF7z8c",
        "colab_type": "code",
        "outputId": "b14dc763-83f9-4005-91d6-c4e4bd1edf3a",
        "colab": {
          "base_uri": "https://localhost:8080/",
          "height": 164
        }
      },
      "cell_type": "code",
      "source": [
        "print (dateabs(\"04/12/19\"))"
      ],
      "execution_count": 0,
      "outputs": [
        {
          "output_type": "error",
          "ename": "TypeError",
          "evalue": "ignored",
          "traceback": [
            "\u001b[0;31m---------------------------------------------------------------------------\u001b[0m",
            "\u001b[0;31mTypeError\u001b[0m                                 Traceback (most recent call last)",
            "\u001b[0;32m<ipython-input-10-f78ef16e5aff>\u001b[0m in \u001b[0;36m<module>\u001b[0;34m()\u001b[0m\n\u001b[0;32m----> 1\u001b[0;31m \u001b[0mprint\u001b[0m \u001b[0;34m(\u001b[0m\u001b[0mdateabs\u001b[0m\u001b[0;34m(\u001b[0m\u001b[0;34m\"04/12/19\"\u001b[0m\u001b[0;34m)\u001b[0m\u001b[0;34m)\u001b[0m\u001b[0;34m\u001b[0m\u001b[0;34m\u001b[0m\u001b[0m\n\u001b[0m",
            "\u001b[0;31mTypeError\u001b[0m: dateabs() missing 1 required positional argument: 'date2'"
          ]
        }
      ]
    },
    {
      "metadata": {
        "id": "Ifrqmx758EaA",
        "colab_type": "code",
        "outputId": "7add91a3-f3c3-4ad3-f154-b4ab57699f64",
        "colab": {
          "base_uri": "https://localhost:8080/",
          "height": 34
        }
      },
      "cell_type": "code",
      "source": [
        "print (\"hello\")"
      ],
      "execution_count": 0,
      "outputs": [
        {
          "output_type": "stream",
          "text": [
            "hello\n"
          ],
          "name": "stdout"
        }
      ]
    },
    {
      "metadata": {
        "id": "c_1hILYi8J_W",
        "colab_type": "code",
        "outputId": "941a117e-e645-47d2-ced5-f3b6f72be4f0",
        "colab": {
          "base_uri": "https://localhost:8080/",
          "height": 36
        }
      },
      "cell_type": "code",
      "source": [
        "print(\"shit\")"
      ],
      "execution_count": 66,
      "outputs": [
        {
          "output_type": "stream",
          "text": [
            "shit\n"
          ],
          "name": "stdout"
        }
      ]
    },
    {
      "metadata": {
        "id": "ec2w3wCUHIZu",
        "colab_type": "code",
        "colab": {
          "base_uri": "https://localhost:8080/",
          "height": 241
        },
        "outputId": "95e5c95e-6a4f-4ae8-a1ef-6a42ca3d7cc7"
      },
      "cell_type": "code",
      "source": [
        "x = (s for s in range(10))\n",
        "y = [m for m in range(10)]\n",
        "print (x)\n",
        "print (y)\n",
        "for b in x:\n",
        "    print (b)\n"
      ],
      "execution_count": 71,
      "outputs": [
        {
          "output_type": "stream",
          "text": [
            "<generator object <genexpr> at 0x7f7f2cddceb8>\n",
            "[0, 1, 2, 3, 4, 5, 6, 7, 8, 9]\n",
            "0\n",
            "1\n",
            "2\n",
            "3\n",
            "4\n",
            "5\n",
            "6\n",
            "7\n",
            "8\n",
            "9\n"
          ],
          "name": "stdout"
        }
      ]
    },
    {
      "metadata": {
        "id": "l7RDd0RcHRum",
        "colab_type": "code",
        "colab": {}
      },
      "cell_type": "code",
      "source": [
        ""
      ],
      "execution_count": 0,
      "outputs": []
    }
  ]
}